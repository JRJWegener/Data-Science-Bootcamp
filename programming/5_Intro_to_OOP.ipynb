{
  "cells": [
    {
      "cell_type": "markdown",
      "metadata": {
        "id": "SKY50krC5gKO"
      },
      "source": [
        "To open this notebook in Google Colab and start coding, click on the Colab icon below.\n",
        "<table style=\"border:2px solid orange\" align=\"left\">\n",
        "  <td style=\"border:2px solid orange \">\n",
        "    <a target=\"_blank\" href=\"https://colab.research.google.com/github/neuefische/ds-welcome-package/blob/main/programming/5_Intro_to_OOP.ipynb\"><img src=\"https://www.tensorflow.org/images/colab_logo_32px.png\" />Run in Google Colab</a>\n",
        "  </td>\n",
        "</table>"
      ]
    },
    {
      "cell_type": "markdown",
      "metadata": {
        "id": "oN_13kOj5gKP"
      },
      "source": [
        "---\n",
        "# Introduction to Object-oriented programming\n",
        "\n",
        "In this notebook we will only cover a very superficial introduction, when you start to really program seriously do go beyond this lesson.\n",
        "\n",
        "<img src=\"https://upload.wikimedia.org/wikipedia/commons/1/1c/Alice_through_the_looking_glass.jpg\"\n",
        "     alt=\"Alice through the looking glass\"\n",
        "     style=\"float: left; margin-right: 10px; height: 300px\" />"
      ]
    },
    {
      "cell_type": "markdown",
      "metadata": {
        "id": "3uIEozMe5gKQ"
      },
      "source": [
        "**Object-oriented programming (OOP)** is a way of writing code using \"objects\". Computer programs that are not object-oriented are a list of instructions for the computer, which is called procedural programming. In OOP computer programs use objects that talk to one another to change the data in those objects and to work the way the user wants. OOP allows code reusability, in different parts of the program or by different developers.\n",
        "\n",
        "Pyhton, like most programming languages, is a mix of different ways of writing computer programs. For example, Python allows both object-oriented programming and procedural programming."
      ]
    },
    {
      "cell_type": "markdown",
      "metadata": {
        "id": "XYXkOEtZ5gKS"
      },
      "source": [
        "## Features\n",
        "\n",
        "In object-oriented programming everything is an object. And there are different types of objects:\n",
        " - Variables, known as **attributes** in OOP, can hold different types of information. For example, an attrubute like *age* for a person could be of integer data type and *names* could be a list of strings.\n",
        " - Procedures, known as **methods** in OOP, are lists of instructions telling the computer to take input, do some calculations or chage data and return an output. For example a person can say their name. In procedural programming they are called functions.\n",
        " - **Classes** are collections of different attributes and methods.\n",
        " \n",
        " **Objects** is a term used to refer to instances of classes."
      ]
    },
    {
      "cell_type": "markdown",
      "metadata": {
        "id": "NXL72ccq5gKT"
      },
      "source": [
        "## Example\n",
        "\n",
        "Let's take the example with person. We can create a **Human** class with three attributes: *age*, *names*, and *friend*. And two methods, to *tell the age* and *say the names*. The \\_\\_init\\_\\_ method is special method classes have called Constructor."
      ]
    },
    {
      "cell_type": "code",
      "execution_count": 1,
      "metadata": {
        "id": "Jj_Toti75gKT"
      },
      "outputs": [],
      "source": [
        "class Human(object):\n",
        "    def __init__(self, names, age, friend = None):\n",
        "        self.names = names\n",
        "        self.age = age\n",
        "        self.friend = friend\n",
        "    def say_name(self):\n",
        "        print(\"My name is \"+' '.join(self.names)) #concatenate names\n",
        "    def how_old_am_i(self):\n",
        "        print(f\"I am {self.age} years old\")"
      ]
    },
    {
      "cell_type": "code",
      "execution_count": 2,
      "metadata": {
        "id": "KQ8VIkIH5gKU"
      },
      "outputs": [],
      "source": [
        "#create a new Human object with 2 names and age 10\n",
        "tarrant = Human(['Tarrant', 'Hightopp'], 20)\n",
        "#create a new Human who is 10 has three names and is friends whith tarrant\n",
        "alice = Human(['Alice', 'Pleasance', 'Liddell'], 10, friend=tarrant)"
      ]
    },
    {
      "cell_type": "code",
      "execution_count": 3,
      "metadata": {
        "id": "gy2sR-xd5gKU",
        "outputId": "bbbd8a3a-072e-4a57-f39a-d9a2d0d0b21c",
        "colab": {
          "base_uri": "https://localhost:8080/"
        }
      },
      "outputs": [
        {
          "output_type": "stream",
          "name": "stdout",
          "text": [
            "My name is Tarrant Hightopp\n",
            "I am 20 years old\n",
            "My name is Alice Pleasance Liddell\n",
            "I am 10 years old\n"
          ]
        }
      ],
      "source": [
        "#Let's try the methods\n",
        "tarrant.say_name()\n",
        "tarrant.how_old_am_i()\n",
        "alice.say_name()\n",
        "alice.how_old_am_i()"
      ]
    },
    {
      "cell_type": "code",
      "execution_count": 4,
      "metadata": {
        "id": "kmCN2UWE5gKV",
        "outputId": "72fad208-b07d-468d-c50f-06bd654c9e9e",
        "colab": {
          "base_uri": "https://localhost:8080/"
        }
      },
      "outputs": [
        {
          "output_type": "stream",
          "name": "stdout",
          "text": [
            "My name is Tarrant Hightopp\n"
          ]
        }
      ],
      "source": [
        "#let's find out the name of Alice's friend\n",
        "#the friend is in this case an object instance of class Human\n",
        "alice.friend.say_name()"
      ]
    },
    {
      "cell_type": "code",
      "execution_count": 5,
      "metadata": {
        "id": "TVCWZGh25gKY",
        "outputId": "3e1a9e86-9105-4f57-b673-6273deae5410",
        "colab": {
          "base_uri": "https://localhost:8080/"
        }
      },
      "outputs": [
        {
          "output_type": "execute_result",
          "data": {
            "text/plain": [
              "__main__.Human"
            ]
          },
          "metadata": {},
          "execution_count": 5
        }
      ],
      "source": [
        "type(alice.friend)"
      ]
    },
    {
      "cell_type": "markdown",
      "metadata": {
        "id": "RvmLxisA5gKY"
      },
      "source": [
        "## Check your understanding\n",
        "\n",
        "Create a *Animal* class with the following attributes: color, name, type, favourite snack and owner.\n",
        "Add the attributes to call the cat and find out the favourite snack.\n",
        "\n",
        "Create a new **Animal** object called *Chessur*, of color grey, who loves salmon and is owned by alice. Can you guess what type of animal Chessur is? \n",
        "How old is alice?"
      ]
    },
    {
      "cell_type": "code",
      "execution_count": 20,
      "metadata": {
        "id": "TVnMw8z65gKY"
      },
      "outputs": [],
      "source": [
        "# Code here\n",
        "#class .. \n",
        "class animal(object):\n",
        "  def __init__(self, color, name, typ, fav_snack, owner):\n",
        "    self.color = color\n",
        "    self.name = name\n",
        "    self.typ = typ\n",
        "    self.fav_snack = fav_snack\n",
        "    self.owner = owner\n",
        "  def call(self):\n",
        "    print(\"Hello\" + ' ' + self.name)\n",
        "  def snack(self):\n",
        "    print(self.name + \"s favourite snack is \" + self.fav_snack)\n"
      ]
    },
    {
      "cell_type": "code",
      "source": [
        "Chessur = animal('grey', 'Chessur', 'cat', 'salmon', 'Alice')"
      ],
      "metadata": {
        "id": "7m1Ttdnm79oQ"
      },
      "execution_count": 21,
      "outputs": []
    },
    {
      "cell_type": "code",
      "source": [
        "Chessur.call()"
      ],
      "metadata": {
        "id": "F_tyXY7p89N-",
        "outputId": "8d863e5e-c731-4059-c398-38c99cd0d860",
        "colab": {
          "base_uri": "https://localhost:8080/"
        }
      },
      "execution_count": 22,
      "outputs": [
        {
          "output_type": "stream",
          "name": "stdout",
          "text": [
            "Hello Chessur\n"
          ]
        }
      ]
    },
    {
      "cell_type": "code",
      "source": [
        "Chessur.snack()"
      ],
      "metadata": {
        "id": "b7jl_a3D89i6",
        "outputId": "47de9c4c-676a-42c8-eea3-e6fd1b337990",
        "colab": {
          "base_uri": "https://localhost:8080/"
        }
      },
      "execution_count": 23,
      "outputs": [
        {
          "output_type": "stream",
          "name": "stdout",
          "text": [
            "Chessurs favourite snack is salmon\n"
          ]
        }
      ]
    },
    {
      "cell_type": "markdown",
      "metadata": {
        "id": "E5tiNwBp5gKY"
      },
      "source": [
        "## Classes we use every day\n",
        "\n",
        "Did you know that **integers** and **strings** are classes too? They have then a bunch of attributes and methods associated with them. You can access the attributes and methods using the *dir* function in Python."
      ]
    },
    {
      "cell_type": "code",
      "execution_count": 24,
      "metadata": {
        "id": "MMkVkeLk5gKY",
        "outputId": "29b29a20-4fb2-4605-e0df-3f888922cfdb",
        "colab": {
          "base_uri": "https://localhost:8080/"
        }
      },
      "outputs": [
        {
          "output_type": "stream",
          "name": "stdout",
          "text": [
            "<class 'str'>\n"
          ]
        },
        {
          "output_type": "execute_result",
          "data": {
            "text/plain": [
              "['__add__',\n",
              " '__class__',\n",
              " '__contains__',\n",
              " '__delattr__',\n",
              " '__dir__',\n",
              " '__doc__',\n",
              " '__eq__',\n",
              " '__format__',\n",
              " '__ge__',\n",
              " '__getattribute__',\n",
              " '__getitem__',\n",
              " '__getnewargs__',\n",
              " '__gt__',\n",
              " '__hash__',\n",
              " '__init__',\n",
              " '__init_subclass__',\n",
              " '__iter__',\n",
              " '__le__',\n",
              " '__len__',\n",
              " '__lt__',\n",
              " '__mod__',\n",
              " '__mul__',\n",
              " '__ne__',\n",
              " '__new__',\n",
              " '__reduce__',\n",
              " '__reduce_ex__',\n",
              " '__repr__',\n",
              " '__rmod__',\n",
              " '__rmul__',\n",
              " '__setattr__',\n",
              " '__sizeof__',\n",
              " '__str__',\n",
              " '__subclasshook__',\n",
              " 'capitalize',\n",
              " 'casefold',\n",
              " 'center',\n",
              " 'count',\n",
              " 'encode',\n",
              " 'endswith',\n",
              " 'expandtabs',\n",
              " 'find',\n",
              " 'format',\n",
              " 'format_map',\n",
              " 'index',\n",
              " 'isalnum',\n",
              " 'isalpha',\n",
              " 'isascii',\n",
              " 'isdecimal',\n",
              " 'isdigit',\n",
              " 'isidentifier',\n",
              " 'islower',\n",
              " 'isnumeric',\n",
              " 'isprintable',\n",
              " 'isspace',\n",
              " 'istitle',\n",
              " 'isupper',\n",
              " 'join',\n",
              " 'ljust',\n",
              " 'lower',\n",
              " 'lstrip',\n",
              " 'maketrans',\n",
              " 'partition',\n",
              " 'replace',\n",
              " 'rfind',\n",
              " 'rindex',\n",
              " 'rjust',\n",
              " 'rpartition',\n",
              " 'rsplit',\n",
              " 'rstrip',\n",
              " 'split',\n",
              " 'splitlines',\n",
              " 'startswith',\n",
              " 'strip',\n",
              " 'swapcase',\n",
              " 'title',\n",
              " 'translate',\n",
              " 'upper',\n",
              " 'zfill']"
            ]
          },
          "metadata": {},
          "execution_count": 24
        }
      ],
      "source": [
        "name = 'alice'\n",
        "print(type(name))\n",
        "dir(name)"
      ]
    },
    {
      "cell_type": "markdown",
      "metadata": {
        "id": "p8CrnfdD5gKY"
      },
      "source": [
        "As you can see there are some method that begin and end with double underscores. These are called **special methods** and they aren't usually called by those names. Instead, they're called by some internal Pyuthon functions, for example **\\_\\_len\\_\\_** method is called by the **len** function.\n",
        "\n",
        "To see what a specific method does you can use teh **help** function."
      ]
    },
    {
      "cell_type": "code",
      "execution_count": 25,
      "metadata": {
        "id": "8b8R97Eh5gKZ",
        "outputId": "3b075226-a1fd-43d4-808b-94834d7efa84",
        "colab": {
          "base_uri": "https://localhost:8080/"
        }
      },
      "outputs": [
        {
          "output_type": "stream",
          "name": "stdout",
          "text": [
            "Help on built-in function upper:\n",
            "\n",
            "upper() method of builtins.str instance\n",
            "    Return a copy of the string converted to uppercase.\n",
            "\n"
          ]
        }
      ],
      "source": [
        "help(name.upper)"
      ]
    },
    {
      "cell_type": "markdown",
      "metadata": {
        "id": "oN7KC1ji5gKa"
      },
      "source": [
        "### Exercise\n",
        "\n",
        "What does the **title** method do?\n",
        "\n",
        "Call it on the name object."
      ]
    },
    {
      "cell_type": "code",
      "execution_count": 29,
      "metadata": {
        "id": "IDz7NcX15gKa",
        "outputId": "7c6abcd0-d47e-40eb-cdc1-cc6e58e4456d",
        "colab": {
          "base_uri": "https://localhost:8080/"
        }
      },
      "outputs": [
        {
          "output_type": "stream",
          "name": "stdout",
          "text": [
            "Help on built-in function title:\n",
            "\n",
            "title() method of builtins.str instance\n",
            "    Return a version of the string where each word is titlecased.\n",
            "    \n",
            "    More specifically, words start with uppercased characters and all remaining\n",
            "    cased characters have lower case.\n",
            "\n"
          ]
        }
      ],
      "source": [
        "# Code here\n",
        "help(name.title)"
      ]
    },
    {
      "cell_type": "markdown",
      "metadata": {
        "id": "xCpKwOY-5gKa"
      },
      "source": [
        "## Object comparison\n",
        "\n",
        "When comparing objects there are two operators: **==** and **is**\n",
        "\n",
        "The **==** operator compares the values of objects (the data they hold), while **is** compares their identites. We often care about values and not identities, so **==** appears more often. However, if you are comparing a viriable to a singleton, then using *is* makes sense. The most often case is checking if a variable is bound to *None*.\n",
        "\n",
        "```\n",
        "tarrant.friend is None # this will return True\n",
        "alice.friend is not None # this will return True\n",
        "```\n",
        "\n",
        "**==** is the syntactic sugar to **\\_\\_eq\\_\\_**\n",
        "\n",
        "When to use **is** and why: if you want to check if something exists, if you want to check that you have indeed distinct objects, so that you do not accidently edit the wrong object. The is operator is faster than ==, so use it when applcable. \n",
        "\n",
        "\n",
        "Fun fact: for Germans this might comparison is supported by the language itself, where you have **gleich** and **dasselbe**"
      ]
    },
    {
      "cell_type": "code",
      "execution_count": 50,
      "metadata": {
        "id": "nzgPzSIM5gKa",
        "outputId": "99af3af9-adcb-445f-ff97-26a47e38cc4c",
        "colab": {
          "base_uri": "https://localhost:8080/"
        }
      },
      "outputs": [
        {
          "output_type": "stream",
          "name": "stdout",
          "text": [
            "[3, [55, 44], (7, 8, 9)]\n",
            "True\n",
            "False\n"
          ]
        }
      ],
      "source": [
        "# looking at lists, where copies are shallow by default\n",
        "l1 = [3, [55,44], (7,8,9)]\n",
        "l2 = list(l1) # this creates a copy of list l1\n",
        "print(l2)\n",
        "print(l1 == l2)\n",
        "print(l1 is l2)"
      ]
    },
    {
      "cell_type": "markdown",
      "metadata": {
        "id": "9OdCjimh5gKa"
      },
      "source": [
        "## Check your understanding"
      ]
    },
    {
      "cell_type": "code",
      "execution_count": 59,
      "metadata": {
        "id": "eDeSoAde5gKa",
        "outputId": "88f3cc97-7897-4f9d-fe99-b1c0d7569308",
        "colab": {
          "base_uri": "https://localhost:8080/"
        }
      },
      "outputs": [
        {
          "output_type": "stream",
          "name": "stdout",
          "text": [
            "True\n",
            "False\n",
            "True\n"
          ]
        }
      ],
      "source": [
        "# looking at integers creating some new integers\n",
        "a = 5\n",
        "b = 5\n",
        "c = 10\n",
        "\n",
        "print(a == b)\n",
        "print(a == c)\n",
        "print(a is b)"
      ]
    },
    {
      "cell_type": "markdown",
      "metadata": {
        "id": "19qmGH5Y5gKb"
      },
      "source": [
        "This only happens because.. Python caches small integers.. try it out with 1000 .. is 1000 the same as 10**3 ?\n",
        "\n",
        "What about strings? If you have a variable `x = 'a'` is 'aa' equal or the same as x*2 ?\n",
        "\n",
        "What happens if you assign l1 to l3 with `l3 = l1`, are they distinct lists or the same? How would you check that? What is the value of l1 if you .. run `l3.append('a')`"
      ]
    },
    {
      "cell_type": "code",
      "execution_count": 34,
      "metadata": {
        "id": "SvH0KNV35gKb",
        "outputId": "76772e8c-27f3-4413-a154-e9653fa40165",
        "colab": {
          "base_uri": "https://localhost:8080/"
        }
      },
      "outputs": [
        {
          "output_type": "execute_result",
          "data": {
            "text/plain": [
              "True"
            ]
          },
          "metadata": {},
          "execution_count": 34
        }
      ],
      "source": [
        "# code\n",
        "x = 'a'\n",
        "\"aa\" == x*2\n"
      ]
    },
    {
      "cell_type": "code",
      "source": [
        "l3 = l1\n",
        "print(l1)\n",
        "print(l3)\n",
        "l3 is l1"
      ],
      "metadata": {
        "id": "n29JKzCJByxa",
        "outputId": "fc59ba34-98a1-4ef5-b947-94dad7c5de3f",
        "colab": {
          "base_uri": "https://localhost:8080/"
        }
      },
      "execution_count": 56,
      "outputs": [
        {
          "output_type": "stream",
          "name": "stdout",
          "text": [
            "[3, [55, 44], (7, 8, 9), 'a']\n",
            "[3, [55, 44], (7, 8, 9), 'a']\n"
          ]
        },
        {
          "output_type": "execute_result",
          "data": {
            "text/plain": [
              "True"
            ]
          },
          "metadata": {},
          "execution_count": 56
        }
      ]
    },
    {
      "cell_type": "code",
      "source": [
        "l3 = l1\n",
        "l3.append('a')\n",
        "print(l1)\n",
        "print(l3)"
      ],
      "metadata": {
        "id": "KzVaVoiVA2kO",
        "outputId": "678d0322-8ff2-4bd1-aff0-db56bf10cf08",
        "colab": {
          "base_uri": "https://localhost:8080/"
        }
      },
      "execution_count": 57,
      "outputs": [
        {
          "output_type": "stream",
          "name": "stdout",
          "text": [
            "[3, [55, 44], (7, 8, 9), 'a', 'a']\n",
            "[3, [55, 44], (7, 8, 9), 'a', 'a']\n"
          ]
        }
      ]
    },
    {
      "cell_type": "markdown",
      "metadata": {
        "id": "O6dfS0F-5gKb"
      },
      "source": [
        "## Inheritance and Code Reuse\n",
        "\n",
        "Just like people have parents, grandparents and so on.. objects have an ancestry. The principle of inheritance lets programmers build relationships between concepts and group them together. It allows us to reduce code duplication by generalizing our code.\n",
        "\n",
        "For our *Human* example we could have the *ImaginaryHuman* class.. as we can all agree that some of the poeple in Alice in Wonderland were imaginary.. One can add more properties and new methods or just use **pass** if no changes are needed."
      ]
    },
    {
      "cell_type": "code",
      "execution_count": 42,
      "metadata": {
        "id": "94T6-WDn5gKb"
      },
      "outputs": [],
      "source": [
        "class ImaginaryHuman(Human):\n",
        "    pass"
      ]
    },
    {
      "cell_type": "code",
      "execution_count": 43,
      "metadata": {
        "id": "p7ed7p5e5gKb"
      },
      "outputs": [],
      "source": [
        "red = ImaginaryHuman([\"The Red Queen\"], 100)"
      ]
    },
    {
      "cell_type": "code",
      "execution_count": 44,
      "metadata": {
        "id": "g0enRyLk5gKb",
        "outputId": "286be2bf-29a2-4fa6-e112-c1106db3bf3c",
        "colab": {
          "base_uri": "https://localhost:8080/"
        }
      },
      "outputs": [
        {
          "output_type": "stream",
          "name": "stdout",
          "text": [
            "My name is The Red Queen\n"
          ]
        }
      ],
      "source": [
        "red.say_name()"
      ]
    },
    {
      "cell_type": "markdown",
      "metadata": {
        "id": "oTw3-D-h5gKb"
      },
      "source": [
        "### Check your understanding\n",
        "\n",
        "Create an imaginary pet class and make a new object.. you can use as inspiration [Alice in wonderland fandom](https://aliceinwonderland.fandom.com/wiki/Alice)\n",
        "\n",
        "Is the new object of the same type as object you made for Chessur? How can you check that?"
      ]
    },
    {
      "cell_type": "code",
      "execution_count": 60,
      "metadata": {
        "id": "rnxOCT8J5gKc"
      },
      "outputs": [],
      "source": [
        "#code\n",
        "class Imaginarypet(animal):\n",
        "  pass\n"
      ]
    },
    {
      "cell_type": "code",
      "source": [
        "cat = Imaginarypet(\"pink\", \"The Cheshire Cat\", \"cat\", \"grinning\", None)"
      ],
      "metadata": {
        "id": "zTa_k2DyCSg5"
      },
      "execution_count": 61,
      "outputs": []
    },
    {
      "cell_type": "code",
      "source": [
        "cat is Chessur"
      ],
      "metadata": {
        "id": "kacF-BX0CSne",
        "outputId": "7409355b-ae94-497c-f3d2-0c0369c7c1fc",
        "colab": {
          "base_uri": "https://localhost:8080/"
        }
      },
      "execution_count": 65,
      "outputs": [
        {
          "output_type": "execute_result",
          "data": {
            "text/plain": [
              "False"
            ]
          },
          "metadata": {},
          "execution_count": 65
        }
      ]
    },
    {
      "cell_type": "markdown",
      "metadata": {
        "id": "hblPD0bK5gKc"
      },
      "source": [
        "# Summary\n",
        "\n",
        "Congratulations! Hope you had fun with Alice and classes and OOP.\n",
        "\n",
        "Here is what you should be familiar by now with:\n",
        "* how to create a class, with attributes and methods\n",
        "* how to create an instance of a class\n",
        "* how to inherit from a class\n",
        "* when to use is vs =="
      ]
    },
    {
      "cell_type": "code",
      "execution_count": 59,
      "metadata": {
        "id": "Kv6MMFjl5gKc"
      },
      "outputs": [],
      "source": []
    }
  ],
  "metadata": {
    "kernelspec": {
      "display_name": "Python 3",
      "language": "python",
      "name": "python3"
    },
    "language_info": {
      "codemirror_mode": {
        "name": "ipython",
        "version": 3
      },
      "file_extension": ".py",
      "mimetype": "text/x-python",
      "name": "python",
      "nbconvert_exporter": "python",
      "pygments_lexer": "ipython3",
      "version": "3.8.5"
    },
    "colab": {
      "provenance": []
    }
  },
  "nbformat": 4,
  "nbformat_minor": 0
}