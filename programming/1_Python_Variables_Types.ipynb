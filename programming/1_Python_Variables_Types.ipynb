{
  "cells": [
    {
      "cell_type": "markdown",
      "metadata": {
        "id": "unARXx_EHiY8"
      },
      "source": [
        "To open this notebook in Google Colab and start coding, click on the Colab icon below.\n",
        "\n",
        "<table style=\"border:2px solid orange\" align=\"left\">\n",
        "  <td style=\"border:2px solid orange \">\n",
        "    <a target=\"_blank\" href=\"https://colab.research.google.com/github/neuefische/ds-welcome-package/blob/main/programming/1_Python_Variables_Types.ipynb\"><img src=\"https://www.tensorflow.org/images/colab_logo_32px.png\" />Run in Google Colab</a>\n",
        "  </td>\n",
        " </table>"
      ]
    },
    {
      "cell_type": "markdown",
      "metadata": {
        "id": "g01JrxKRM2vL"
      },
      "source": [
        "---\n",
        "# Intro to Python"
      ]
    },
    {
      "cell_type": "markdown",
      "metadata": {
        "id": "wi-TDN27HiY_"
      },
      "source": [
        "Welcome to your first notebook on python! \n",
        "\n",
        "In this notebook you will start your journey of becoming a Pythonista and Data Scientist. If you're completely new to programming this is the right place to start. But even if you are already familiar with Python or some of its concepts it will be a good revision to refresh your knowledge. \n",
        "\n",
        "At the end of the notebook you will...\n",
        "* know how to use python as a calculator.\n",
        "* be familiar with pythons concept of variables. \n",
        "* have an overview over Python's data types."
      ]
    },
    {
      "cell_type": "markdown",
      "metadata": {
        "id": "IJcGK6R8M2vM"
      },
      "source": [
        "## A brief little introduction...\n",
        "\n",
        "Python was developed in the late 1980s by Guido van Rossum. It is an interpreted, high-level and general purpose programming language. In comparison to other programming languages Python strives for a simpler, less-cluttered syntax and grammar. Nevertheless it is one of the (if not to say the) preferred and most used language when it comes to Data Science. Its versatility and flexibility in combination with its easy to learn and clean syntax makes it a perfect language for programming beginners. \n",
        "\n",
        "Enough said, let's directly dive into the first lesson. "
      ]
    },
    {
      "cell_type": "markdown",
      "metadata": {
        "id": "Uz23ukSCM2vR"
      },
      "source": [
        "## Numeric Operations\n",
        "\n",
        "At its base level, Python is really just an awesome calculator that can do way more stuff than addition and subtraction. But, let's focus on that functionality for now.\n",
        "\n",
        "All of the simple operations that you think should be available are available. Addition, subtraction, multiplication, division and exponentiation are all accessible via + , - , * , / and ** , respectively."
      ]
    },
    {
      "cell_type": "code",
      "execution_count": 2,
      "metadata": {
        "colab": {
          "base_uri": "https://localhost:8080/"
        },
        "id": "iE3ERx9pNhr-",
        "outputId": "891db6ea-90d4-4bbc-dd8d-defc740812fc"
      },
      "outputs": [
        {
          "output_type": "execute_result",
          "data": {
            "text/plain": [
              "15"
            ]
          },
          "metadata": {},
          "execution_count": 2
        }
      ],
      "source": [
        "7 + 8"
      ]
    },
    {
      "cell_type": "code",
      "execution_count": 3,
      "metadata": {
        "colab": {
          "base_uri": "https://localhost:8080/"
        },
        "id": "G_dY7ba6NoMm",
        "outputId": "9f68225f-3385-4660-cb31-d8eac1f55a0d"
      },
      "outputs": [
        {
          "output_type": "execute_result",
          "data": {
            "text/plain": [
              "-1"
            ]
          },
          "metadata": {},
          "execution_count": 3
        }
      ],
      "source": [
        "7 - 8"
      ]
    },
    {
      "cell_type": "code",
      "execution_count": null,
      "metadata": {
        "id": "kuYct8w5NpbK"
      },
      "outputs": [],
      "source": [
        "7 * 8"
      ]
    },
    {
      "cell_type": "code",
      "execution_count": null,
      "metadata": {
        "id": "aqEwvZ4CNqfp"
      },
      "outputs": [],
      "source": [
        "7 / 8"
      ]
    },
    {
      "cell_type": "code",
      "execution_count": 4,
      "metadata": {
        "colab": {
          "base_uri": "https://localhost:8080/"
        },
        "id": "_5dDFIvZNr6g",
        "outputId": "f93249d9-74c2-486c-d77f-d57d523f0452"
      },
      "outputs": [
        {
          "output_type": "execute_result",
          "data": {
            "text/plain": [
              "5764801"
            ]
          },
          "metadata": {},
          "execution_count": 4
        }
      ],
      "source": [
        "7 ** 8"
      ]
    },
    {
      "cell_type": "markdown",
      "metadata": {
        "id": "sB76f_UrOJOH"
      },
      "source": [
        "Perfekt. All of these operations output exactly what we think they would.\n",
        "\n",
        "Besides those simple operators you can also find on any calculator Python offers two more arithmetic operators which might be new to you: // and %.\n",
        "The double slash // is called floor division. All it does is perform division and truncate the result. So where 7 / 8 gave us 0.875, 7 // 8 cuts off after the 0. giving us 0."
      ]
    },
    {
      "cell_type": "code",
      "execution_count": null,
      "metadata": {
        "id": "epd5O0jyObjA"
      },
      "outputs": [],
      "source": [
        "7 // 8"
      ]
    },
    {
      "cell_type": "markdown",
      "metadata": {
        "id": "urGZkhhZOSit"
      },
      "source": [
        "The last operation that we will go over is the modular division operator, % (also called modulo). This operation is the sibling to //. As you can see in the following example the // gives us the integer number of times that 7 goes into 71. But, there is still a remainder of one. The way we get the remainder of integer division is with the % operator."
      ]
    },
    {
      "cell_type": "code",
      "execution_count": 5,
      "metadata": {
        "colab": {
          "base_uri": "https://localhost:8080/"
        },
        "id": "MAAE_-HWOfm7",
        "outputId": "712775a3-15cc-4fed-cf9c-87c67b7595c0"
      },
      "outputs": [
        {
          "output_type": "execute_result",
          "data": {
            "text/plain": [
              "10"
            ]
          },
          "metadata": {},
          "execution_count": 5
        }
      ],
      "source": [
        "71 // 7   # floor division"
      ]
    },
    {
      "cell_type": "code",
      "execution_count": 6,
      "metadata": {
        "colab": {
          "base_uri": "https://localhost:8080/"
        },
        "id": "5u_Tn8DbOmKX",
        "outputId": "15985144-0929-4b70-a59f-62b9c8ea8e21"
      },
      "outputs": [
        {
          "output_type": "execute_result",
          "data": {
            "text/plain": [
              "1"
            ]
          },
          "metadata": {},
          "execution_count": 6
        }
      ],
      "source": [
        "71 % 7    # modulo "
      ]
    },
    {
      "cell_type": "markdown",
      "metadata": {
        "id": "Odr77fECOt0J"
      },
      "source": [
        "You can change the order in which operations get performed by using parenthesis (), just as you can in algebra."
      ]
    },
    {
      "cell_type": "code",
      "execution_count": null,
      "metadata": {
        "id": "ANgCbnEcOutU"
      },
      "outputs": [],
      "source": [
        "4 + 5 * 3"
      ]
    },
    {
      "cell_type": "code",
      "execution_count": null,
      "metadata": {
        "id": "FSJz2eBCOwZR"
      },
      "outputs": [],
      "source": [
        "(4 + 5) * 3"
      ]
    },
    {
      "cell_type": "markdown",
      "metadata": {
        "id": "oLsL77UovgvS"
      },
      "source": [
        "At this point we also want to introduce some simple functions which you will encounter during your daily work as a Data Scientist. (Don't worry if you don't know what a function is. We will cover this in another notebook.)\n",
        "\n",
        "`abs()`, `min()`, `max()` and `round()` are useful little functions which will make your life a lot easier. As their names already imply `abs()` will return the absolut value of a number, `min()` and `max()` will return the minimum respectively maximum of a bunch of numbers and `round()` will round a number to a given amount of decimals."
      ]
    },
    {
      "cell_type": "code",
      "execution_count": 7,
      "metadata": {
        "colab": {
          "base_uri": "https://localhost:8080/"
        },
        "id": "32LPzJNUvu__",
        "outputId": "83ac26a6-f38f-40d3-c81b-9470bacae2de"
      },
      "outputs": [
        {
          "output_type": "execute_result",
          "data": {
            "text/plain": [
              "3.14"
            ]
          },
          "metadata": {},
          "execution_count": 7
        }
      ],
      "source": [
        "abs(3.14)"
      ]
    },
    {
      "cell_type": "code",
      "execution_count": 8,
      "metadata": {
        "colab": {
          "base_uri": "https://localhost:8080/"
        },
        "id": "w27ravqvugoq",
        "outputId": "d5b99858-bd47-4183-f679-76cd48a7ec1a"
      },
      "outputs": [
        {
          "output_type": "execute_result",
          "data": {
            "text/plain": [
              "3.41"
            ]
          },
          "metadata": {},
          "execution_count": 8
        }
      ],
      "source": [
        "abs(-3.41)"
      ]
    },
    {
      "cell_type": "code",
      "execution_count": 9,
      "metadata": {
        "colab": {
          "base_uri": "https://localhost:8080/"
        },
        "id": "R0-wIjfM_J7T",
        "outputId": "86e6b8d2-d317-4d92-cb36-893e6725eee4"
      },
      "outputs": [
        {
          "output_type": "execute_result",
          "data": {
            "text/plain": [
              "1"
            ]
          },
          "metadata": {},
          "execution_count": 9
        }
      ],
      "source": [
        "min(3, 5, 1, 6, 8, 9)"
      ]
    },
    {
      "cell_type": "code",
      "execution_count": 10,
      "metadata": {
        "colab": {
          "base_uri": "https://localhost:8080/"
        },
        "id": "FqBtOsgv_M5-",
        "outputId": "cb98d4e4-5d6a-4048-d0cb-3dffc65088d0"
      },
      "outputs": [
        {
          "output_type": "execute_result",
          "data": {
            "text/plain": [
              "9"
            ]
          },
          "metadata": {},
          "execution_count": 10
        }
      ],
      "source": [
        "max(3, 5, 1, 6, 8, 9)"
      ]
    },
    {
      "cell_type": "code",
      "execution_count": null,
      "metadata": {
        "id": "XRhuZMJj-9vt"
      },
      "outputs": [],
      "source": [
        "round(5.23412, 2)   # you can specify the amount of decimals after the comma"
      ]
    },
    {
      "cell_type": "markdown",
      "metadata": {
        "id": "L4n2RJ7aO1OC"
      },
      "source": [
        "**Questions:**\n",
        "\n",
        "What do you think the results of the following computations will be?\n",
        "\n",
        "1. 8.0 - 7\n",
        "2. 8 * 0.25\n",
        "3. 5 ** 2\n",
        "4. 17 // 5\n",
        "5. (4 + 5) / 6\n",
        "6. (46 / 8) % 2\n",
        "7. abs(-7.9)\n",
        "8. round(6.293764, 3)"
      ]
    },
    {
      "cell_type": "markdown",
      "metadata": {
        "id": "r5zfHBWDF50c"
      },
      "source": [
        "<details><summary>\n",
        "Click here for the answers.\n",
        "</summary>\n",
        "    \n",
        "1. 1.0 \n",
        "2. 2.0\n",
        "3. 25\n",
        "4. 3\n",
        "5. 1.5\n",
        "6. 1.75\n",
        "7. 7.9\n",
        "8. 6.294\n",
        "    \n",
        "</details>"
      ]
    },
    {
      "cell_type": "markdown",
      "metadata": {
        "id": "8FsAtR0tQrhI"
      },
      "source": [
        "## Variables"
      ]
    },
    {
      "cell_type": "markdown",
      "metadata": {
        "id": "Xi9hR-sgRPji"
      },
      "source": [
        "One of the most powerful constructs in programming is the ability to store arbitrary values in what we call variables. You can think of variable assignment as giving a name to something so that it can be accessed later by different parts of your program.\n",
        "\n",
        "In Python, variable assignment occurs with the `=` operator. To assign a value to a variable name (i.e. declare it), you simply put the variable name on the left side of the = and the value you want to associate with that variable name on the right side. Once this has happened, you can access the value in the variable simply by using it's name somewhere later in your code."
      ]
    },
    {
      "cell_type": "code",
      "execution_count": 12,
      "metadata": {
        "id": "y2ImxFNdQmU8"
      },
      "outputs": [],
      "source": [
        "x = 5\n",
        "y = 2"
      ]
    },
    {
      "cell_type": "code",
      "execution_count": 13,
      "metadata": {
        "colab": {
          "base_uri": "https://localhost:8080/"
        },
        "id": "af-trpuORRP-",
        "outputId": "41170a74-097b-405f-c705-bc46d910b478"
      },
      "outputs": [
        {
          "output_type": "execute_result",
          "data": {
            "text/plain": [
              "5"
            ]
          },
          "metadata": {},
          "execution_count": 13
        }
      ],
      "source": [
        "x"
      ]
    },
    {
      "cell_type": "code",
      "execution_count": 14,
      "metadata": {
        "colab": {
          "base_uri": "https://localhost:8080/"
        },
        "id": "z63TMHsVRRiT",
        "outputId": "09bd05d9-47b1-446f-c371-b7a0d5bd4ae4"
      },
      "outputs": [
        {
          "output_type": "execute_result",
          "data": {
            "text/plain": [
              "1"
            ]
          },
          "metadata": {},
          "execution_count": 14
        }
      ],
      "source": [
        "x - 4"
      ]
    },
    {
      "cell_type": "code",
      "execution_count": 15,
      "metadata": {
        "colab": {
          "base_uri": "https://localhost:8080/"
        },
        "id": "fqjPyjYvRRvX",
        "outputId": "dbcc7a07-2e16-4b05-dbfc-4ba3cafb0075"
      },
      "outputs": [
        {
          "output_type": "execute_result",
          "data": {
            "text/plain": [
              "7"
            ]
          },
          "metadata": {},
          "execution_count": 15
        }
      ],
      "source": [
        "x + y"
      ]
    },
    {
      "cell_type": "markdown",
      "metadata": {
        "id": "uPdw_CEZRuz4"
      },
      "source": [
        "The name you can give a variable can technically be any contiguous set of characters, but there are some conventions followed in Python and programming in general. Python follows a variable naming convention called snake case. To write something in snake case, simply use a _ anywhere you would use a space, and make sure every word is lower case. For example, `this_is_a_variable`. Giving variables good names makes your code more readable and therefore maintainable. There is a big difference between seeing a variable called `degrees` and one called `y`. You should strive to give your variables well-defined, succinct names.\n",
        "\n",
        "There are of course cases where using less than descriptive variable names follows convention and are, therefore, just fine to use. A common example is the use of `i` to keep track of an index. Because of its prevalent usage for indexing, it is usually easy to understand what is happening in that context when all you see is the variable name `i`. Here, the lack of descriptiveness is okay. The important thing is that the code is **understandable**.\n",
        "\n",
        "Note that we saw no output from either x = 5 or y = 2 above. This is because the return value that would have been printed as output was assigned to the variables x and y, respectively. This is why we had to view them in the next lines.\n",
        "\n",
        "A large part of variables' power is the fact that they can change (vary, if you will). This allows us to use a single variable name to keep track of a specific thing throughout the life of a program. Remember how we assigned the value 5 to x above? The exact same syntax can be used to change the value stored in the variable.\n",
        "\n",
        "Say we want to make the value of x five more than it currently is. All we need to do is have x be assigned the value that results from adding 5 to x."
      ]
    },
    {
      "cell_type": "code",
      "execution_count": 16,
      "metadata": {
        "colab": {
          "base_uri": "https://localhost:8080/"
        },
        "id": "uN1KtyetSJ82",
        "outputId": "8377c77d-1a2f-4b43-88df-af76ba40c46d"
      },
      "outputs": [
        {
          "output_type": "execute_result",
          "data": {
            "text/plain": [
              "10"
            ]
          },
          "metadata": {},
          "execution_count": 16
        }
      ],
      "source": [
        "x = x + 5\n",
        "x"
      ]
    },
    {
      "cell_type": "markdown",
      "metadata": {
        "id": "CRpsOOxkSmOK"
      },
      "source": [
        "Notice how the first line above is formatted. Python knows that the = means variable assignment, so when it sees the first line it evaluates the right side of the equals and then puts that value in x, even though x is part of the calculation on the right side. x is now connected with this new value and the old value is gone.\n",
        "\n",
        "Changing variables in this way occurs so commonly that there is a built-in shorthand for it. The result of the first line could have been achieved with x += 5. This syntactic sugar is available for all the simple operations +, -, *, /, **, and % that we covered earlier."
      ]
    },
    {
      "cell_type": "markdown",
      "metadata": {
        "id": "8FcX32_fSueI"
      },
      "source": [
        "**Questions:**\n",
        "\n",
        "Consider the following code:\n",
        "```\n",
        "x = 5\n",
        "y = 8\n",
        "x += y\n",
        "y = x - 3\n",
        "x -= y - 5\n",
        "```\n",
        "\n",
        "What are the values of x and y after each line?"
      ]
    },
    {
      "cell_type": "markdown",
      "metadata": {
        "id": "ZvlWqlKiTBar"
      },
      "source": [
        "<details><summary>\n",
        "Click here to see the values for x and y after the last line.\n",
        "</summary>\n",
        "    \n",
        "x = 8,\n",
        "y = 10\n",
        "    \n",
        "</details>"
      ]
    },
    {
      "cell_type": "markdown",
      "metadata": {
        "id": "yXYlR6fNaXBT"
      },
      "source": [
        "## Types\n",
        "\n",
        "You successfully used python as a simple calculator and learned how to use variables! The last topic we will cover in this notebook are data types. \n",
        "\n",
        "Data type is an important concept in programming. Variables can store data in different types and different types can do different things.\n",
        "\n",
        "We will cover some of Python's built in data types in the following section. \n",
        "\n",
        "> Maybe you have heard or read that an important characteristic of Python is that it is a **duck typed** language. What does this mean? The name duck comes from the classic \"If it walks like a duck, and quacks like a duck, then it must be a duck\" adage. As applied to our situation, it simply means that Python will determine what it thinks is the best type to call a variable when you use it, unless explicitly told otherwise."
      ]
    },
    {
      "cell_type": "markdown",
      "metadata": {
        "id": "IPi_Wa9hM2vM"
      },
      "source": [
        "### Numeric types\n",
        "\n",
        "Python has a lot of different data types. You've already used some of the base numeric types, which are built into Python. All of those represent a very simple idea, numbers. Numbers can be either `ints`, short for integers, `floats`, short for floating point/decimal numbers, or `complex`, which contain real and imaginary parts stored as floats."
      ]
    },
    {
      "cell_type": "code",
      "execution_count": null,
      "metadata": {
        "id": "Fxd_uzIBM2vN"
      },
      "outputs": [],
      "source": [
        "7   # int "
      ]
    },
    {
      "cell_type": "code",
      "execution_count": null,
      "metadata": {
        "id": "9TPXYuXZM2vO"
      },
      "outputs": [],
      "source": [
        "3.5   # float"
      ]
    },
    {
      "cell_type": "code",
      "execution_count": 17,
      "metadata": {
        "colab": {
          "base_uri": "https://localhost:8080/"
        },
        "id": "JEh5Ee-1M2vO",
        "outputId": "90f10830-d703-4c05-8727-2be4a4ade0f5"
      },
      "outputs": [
        {
          "output_type": "execute_result",
          "data": {
            "text/plain": [
              "(3+6j)"
            ]
          },
          "metadata": {},
          "execution_count": 17
        }
      ],
      "source": [
        "complex(3, 6)   # complex"
      ]
    },
    {
      "cell_type": "markdown",
      "metadata": {
        "id": "yGgfhspsd44a"
      },
      "source": [
        "To inspect what type Python thinks a numeric (or anything else) is, you can pass it to the type() function. Let's see what we get out when we pass numbers of various types to this function."
      ]
    },
    {
      "cell_type": "code",
      "execution_count": null,
      "metadata": {
        "id": "pOndrc6-M2vP"
      },
      "outputs": [],
      "source": [
        "type(7)"
      ]
    },
    {
      "cell_type": "code",
      "execution_count": null,
      "metadata": {
        "id": "MUNM_MS9M2vP"
      },
      "outputs": [],
      "source": [
        "type(3.5)"
      ]
    },
    {
      "cell_type": "code",
      "execution_count": 18,
      "metadata": {
        "colab": {
          "base_uri": "https://localhost:8080/"
        },
        "id": "YcXj8lzIM2vQ",
        "outputId": "044a141c-95c7-47f7-c730-fd17089b2c97"
      },
      "outputs": [
        {
          "output_type": "execute_result",
          "data": {
            "text/plain": [
              "complex"
            ]
          },
          "metadata": {},
          "execution_count": 18
        }
      ],
      "source": [
        "type(complex(3, 6))"
      ]
    },
    {
      "cell_type": "markdown",
      "metadata": {
        "id": "9zL2XNDDM2vQ"
      },
      "source": [
        "As you can see, Python assumes that a number with no decimal point is an `int`, those with a decimal point a `float`, and (surprise!) those from the complex() constructor as `complex`.\n",
        "\n",
        "Frequently, these subtle differences wont matter too much. However, there will be times when this implementation detail will make you think that something will work, when really it won't. Knowing how to check the type of something will help you solve any of these potential problems."
      ]
    },
    {
      "cell_type": "markdown",
      "metadata": {
        "id": "lYACCkuAd_U-"
      },
      "source": [
        "### String\n",
        "\n",
        "Besides numeric types Python has a special type for text. This data type called `string` or short `str` represents sequences of characters. A string can contain as many characters as you want. While other programming languages have a special type called `char` for single characters, in Python single characters are also designated as `string`. Strings can also be empty or contain numbers. \n",
        "To make it clear for Python that something is a string you can use double  `\" \"` or single `' '` quotes. All characters between an opening delimiter and a matching closing delimiter are part of the string."
      ]
    },
    {
      "cell_type": "code",
      "execution_count": null,
      "metadata": {
        "id": "ir42IRTJgX3M"
      },
      "outputs": [],
      "source": [
        "\"Welcome at neuefische!\""
      ]
    },
    {
      "cell_type": "code",
      "execution_count": null,
      "metadata": {
        "id": "MoZ-rybkgcYN"
      },
      "outputs": [],
      "source": [
        "'We are looking forward to meeting you all soon :)'"
      ]
    },
    {
      "cell_type": "code",
      "execution_count": null,
      "metadata": {
        "id": "GgLacSa6gQaQ"
      },
      "outputs": [],
      "source": [
        "type(\"We hope you are also excited.\")"
      ]
    },
    {
      "cell_type": "code",
      "execution_count": null,
      "metadata": {
        "id": "DCCI7lNl5k_1"
      },
      "outputs": [],
      "source": [
        "type('')"
      ]
    },
    {
      "cell_type": "code",
      "execution_count": null,
      "metadata": {
        "id": "-oqSpun2gwz_"
      },
      "outputs": [],
      "source": [
        "type(\"A\")"
      ]
    },
    {
      "cell_type": "code",
      "execution_count": null,
      "metadata": {
        "id": "hn-h1i-KgsIh"
      },
      "outputs": [],
      "source": [
        "type(\"8128\")"
      ]
    },
    {
      "cell_type": "markdown",
      "metadata": {
        "id": "vmF0Tpr6HiZL"
      },
      "source": [
        "You can use arithmetic operations like `+` or `*`  also on strings. There is a lot more you can do with strings and we could fill a whole notebook only with string formatting and manipulation. But no worries, you will learn a lot about strings while you'll use them. "
      ]
    },
    {
      "cell_type": "code",
      "execution_count": null,
      "metadata": {
        "id": "pDwwOUOSHiZM"
      },
      "outputs": [],
      "source": [
        "\"neue\" + \"fische\""
      ]
    },
    {
      "cell_type": "code",
      "execution_count": null,
      "metadata": {
        "id": "D4l0eMQWHiZM"
      },
      "outputs": [],
      "source": [
        "\"Bam\" * 3"
      ]
    },
    {
      "cell_type": "markdown",
      "metadata": {
        "id": "yyJ8OZ2U5z2h"
      },
      "source": [
        "### Bool\n",
        "\n",
        "\n",
        "Python has a type of variable called `bool`. It has two possible values: `True` and `False`. \n",
        "\n",
        "> Note that the boolean values `True` and `False` begin with capital letters. Python is a case sensitive language. That means True and true are not the same!"
      ]
    },
    {
      "cell_type": "code",
      "execution_count": null,
      "metadata": {
        "id": "qwda3_Vb56Wp"
      },
      "outputs": [],
      "source": [
        "True"
      ]
    },
    {
      "cell_type": "code",
      "execution_count": null,
      "metadata": {
        "id": "zThO9Cmd58Kn"
      },
      "outputs": [],
      "source": [
        "False"
      ]
    },
    {
      "cell_type": "code",
      "execution_count": null,
      "metadata": {
        "id": "OUwADLGQ58D9"
      },
      "outputs": [],
      "source": [
        "type(True)"
      ]
    },
    {
      "cell_type": "code",
      "execution_count": null,
      "metadata": {
        "id": "hwmCWX6S5780"
      },
      "outputs": [],
      "source": [
        "type(False)"
      ]
    },
    {
      "cell_type": "markdown",
      "metadata": {
        "id": "_ZzBYIPE6w55"
      },
      "source": [
        "Instead of putting `True` or `False` directly into our code, we usually get those boolean values from comparison operations, which can either evaluate to `True` or `False`. The following table gives an overview over the possible comparison operations and the operators used in Python. \n",
        "\n",
        "| Operator | Operation | Description |\n",
        "|----|-----------|-------------|\n",
        "| == | a == b    | a equal to b | \n",
        "| < | a < b    | a less than b | \n",
        "| <= | a <= b   | a less than or equal to b |\n",
        "| > | a > b    | a greater than b  | \n",
        "| >= | a >= b  | a greater than or equal to b | \n",
        "| != | a != b | a not equal to b | "
      ]
    },
    {
      "cell_type": "code",
      "execution_count": null,
      "metadata": {
        "id": "9m2NgPSZu1rJ"
      },
      "outputs": [],
      "source": [
        "1 == 1"
      ]
    },
    {
      "cell_type": "code",
      "execution_count": null,
      "metadata": {
        "id": "E138BHyM8ZUV"
      },
      "outputs": [],
      "source": [
        "7 < 5"
      ]
    },
    {
      "cell_type": "code",
      "execution_count": null,
      "metadata": {
        "id": "56sydtXu8bp1"
      },
      "outputs": [],
      "source": [
        "3 >= 3"
      ]
    },
    {
      "cell_type": "markdown",
      "metadata": {
        "id": "cIHQ1uYX9VBo"
      },
      "source": [
        "You will have to deal a lot with booleans and one characteristic is especially interesting from the Data Scienctist's perspective. \n",
        "\n",
        "If you convert `True` or `False` to an integer using `int()` you will always get 1 for `True` and 0 for `False`. This will come in handy in some situations. "
      ]
    },
    {
      "cell_type": "code",
      "execution_count": null,
      "metadata": {
        "id": "BrdWZMMuDpPZ"
      },
      "outputs": [],
      "source": [
        "int(True)"
      ]
    },
    {
      "cell_type": "code",
      "execution_count": null,
      "metadata": {
        "id": "E28eFJ1R6GME"
      },
      "outputs": [],
      "source": [
        "int(False)"
      ]
    },
    {
      "cell_type": "markdown",
      "metadata": {
        "id": "OnhN68nHILl5"
      },
      "source": [
        "### Further data types\n",
        "\n",
        "Other built in data types are:\n",
        "\n",
        "* sequence types like `list`, `tuple`, `range`\n",
        "* mapping type like `dict`\n",
        "* set types like `set` or `frozenset`\n",
        "* binary types like `bytes`, `bytearray`, `memoryview`\n",
        "\n",
        "We will not cover those types in detail in this notebook. But no worries, you will encounter most of them in the other notebooks or during the bootcamp. "
      ]
    },
    {
      "cell_type": "markdown",
      "metadata": {
        "id": "yqTZg9wQM2vQ"
      },
      "source": [
        "**Questions:**\n",
        "\n",
        "Determine the type of the following:\n",
        "\n",
        "1. \" \"\n",
        "2. 231.54\n",
        "3. True\n",
        "4. 96\n",
        "5. \"Hello\"\n",
        "6. 4 + 3i\n",
        "7. '203 + 45i'\n"
      ]
    },
    {
      "cell_type": "markdown",
      "metadata": {
        "id": "rXb6R6-2M2vQ"
      },
      "source": [
        "<details><summary>\n",
        "Click here for the answers.\n",
        "</summary>\n",
        "    \n",
        "1. string \n",
        "2. float\n",
        "3. bool\n",
        "4. integer\n",
        "5. string\n",
        "6. complex\n",
        "7. string\n",
        "</details>\n"
      ]
    },
    {
      "cell_type": "markdown",
      "metadata": {
        "id": "dtWb0GXCKOem"
      },
      "source": [
        "## Summary\n",
        "\n",
        "Congratulations! You've reached the end of the first Python notebook. \n",
        "\n",
        "Here is what you should be familiar with by now:\n",
        "* how to use Python as a simple calculator\n",
        "* what variables are and how to assign them\n",
        "* what the data types `int`, `float`, `complex`, `str` and `bool` are "
      ]
    },
    {
      "cell_type": "code",
      "execution_count": 18,
      "metadata": {
        "id": "V7fhjK9gLIQ4"
      },
      "outputs": [],
      "source": []
    }
  ],
  "metadata": {
    "colab": {
      "name": "Intro_Python.ipynb",
      "provenance": []
    },
    "kernelspec": {
      "display_name": "Python 3",
      "language": "python",
      "name": "python3"
    },
    "language_info": {
      "codemirror_mode": {
        "name": "ipython",
        "version": 3
      },
      "file_extension": ".py",
      "mimetype": "text/x-python",
      "name": "python",
      "nbconvert_exporter": "python",
      "pygments_lexer": "ipython3",
      "version": "3.8.5"
    }
  },
  "nbformat": 4,
  "nbformat_minor": 0
}